{
 "cells": [
  {
   "cell_type": "markdown",
   "metadata": {},
   "source": [
    "# Reproducing Stylized Results (Blocks 1–4)\n\n",
    "This notebook runs the analysis script that generates figures and CSVs for the stylized exercises.\n",
    "If figures already exist in `paper/figures/`, it reuses them to keep builds fast."
   ]
  },
  {
   "cell_type": "code",
   "execution_count": null,
   "metadata": {},
   "outputs": [],
   "source": [
    "import os, sys, json, subprocess, shutil\n",
    "from pathlib import Path\n",
    "from datetime import datetime\n",
    "\n",
    "# Ensure package import works for subprocess\n",
    "here = Path.cwd()\n",
    "project_root = (here / '..' / '..').resolve()\n",
    "src_path = (project_root / 'src').resolve()\n",
    "figdir = (here / '..' / 'figures').resolve()\n",
    "scripts_runner = (project_root / 'scripts' / 'run_analysis.py').resolve()\n",
    "\n",
    "expected = [\n",
    "    'block1_bias_loss.png',\n",
    "    'block2_uncertainty_loss.png',\n",
    "    'block3_two_worker_welfare.png',\n",
    "    'block4_opt_tax_vs_sd.png',\n",
    "    'block4_welfare_vs_sd.png',\n",
    "]\n",
    "\n",
    "figdir.mkdir(parents=True, exist_ok=True)\n",
    "missing = [f for f in expected if not (figdir / f).exists()]\n",
    "missing"
   ]
  },
  {
   "cell_type": "code",
   "execution_count": null,
   "metadata": {},
   "outputs": [],
   "source": [
    "# If any expected figure is missing, generate a lighter set to keep execution quick.\n",
    "if missing:\n",
    "    env = os.environ.copy()\n",
    "    # Ensure the runner can import the local package\n",
    "    env['PYTHONPATH'] = str(src_path) + os.pathsep + env.get('PYTHONPATH', '')\n",
    "    cmd = [\n",
    "        sys.executable, str(scripts_runner),\n",
    "        '--outdir', str(figdir),\n",
    "        '--seed', '123',\n",
    "        '--grid', '81',\n",
    "        '--pop-n', '400',\n",
    "        '--opt-tax-grid', '21',\n",
    "        '--opt-sd-n', '3',\n",
    "        '--tax-n', '16',\n",
    "    ]\n",
    "    print('Generating figures via:', ' '.join(cmd))\n",
    "    subprocess.run(cmd, check=True, env=env)\n",
    "else:\n",
    "    print('Using existing figures in', figdir)\n",
    "\n",
    "sorted(os.listdir(figdir))\n"
   ]
  },
  {
   "cell_type": "code",
   "execution_count": null,
   "metadata": {},
   "outputs": [],
   "source": [
    "# Display the figures inline\n",
    "from IPython.display import display, Image\n",
    "for f in expected:\n",
    "    path = figdir / f\n",
    "    if path.exists():\n",
    "        display(Image(filename=str(path)))\n",
    "    else:\n",
    "        print('Missing figure:', path)\n"
   ]
  }
 ],
 "metadata": {
  "kernelspec": {
   "display_name": "Python 3",
   "language": "python",
   "name": "python3"
  },
  "language_info": {
   "name": "python",
   "pygments_lexer": "ipython3"
  }
 },
 "nbformat": 4,
 "nbformat_minor": 5
}

